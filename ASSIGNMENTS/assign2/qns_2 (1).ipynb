{
  "nbformat": 4,
  "nbformat_minor": 0,
  "metadata": {
    "colab": {
      "provenance": []
    },
    "kernelspec": {
      "name": "python3",
      "display_name": "Python 3"
    },
    "language_info": {
      "name": "python"
    }
  },
  "cells": [
    {
      "cell_type": "markdown",
      "source": [
        "27/03/2024\n",
        "# CSC354 – Assignmen2 – ML – Decision Trees\n",
        "# Aimah Siddique\n",
        "# Fa21-bse-092\n",
        "# Performing regression task on given dataset using decision tree. First using baseline model to get initial error value and then using grid search and random method to improve the model by using different parameters\n"
      ],
      "metadata": {
        "id": "_ZS-hVO4hBau"
      }
    },
    {
      "cell_type": "code",
      "execution_count": 20,
      "metadata": {
        "id": "7ok0xpumSGZG"
      },
      "outputs": [],
      "source": [
        "import pandas as pd\n",
        "from sklearn.tree import DecisionTreeRegressor\n",
        "from sklearn.preprocessing import OneHotEncoder\n",
        "from sklearn.compose import ColumnTransformer\n",
        "from sklearn.model_selection import train_test_split, RandomizedSearchCV\n",
        "from sklearn.metrics import mean_squared_error\n",
        "from scipy.stats import randint\n"
      ]
    },
    {
      "cell_type": "code",
      "source": [
        "df = pd.read_csv('/content/cars-dataset.csv')"
      ],
      "metadata": {
        "id": "Tl8NHie0SJTS"
      },
      "execution_count": 2,
      "outputs": []
    },
    {
      "cell_type": "code",
      "source": [
        "# Assuming these are the correct column names in your DataFrame\n",
        "features = ['year', 'km_driven', 'fuel', 'seller_type', 'transmission', 'owner']\n",
        "target = 'selling_price'\n",
        "\n",
        "# Define X (features) and y (target variable)\n",
        "X = df[features]\n",
        "y = df[target]\n"
      ],
      "metadata": {
        "id": "XxoF2WkCW6wE"
      },
      "execution_count": 15,
      "outputs": []
    },
    {
      "cell_type": "code",
      "source": [
        "\n",
        "# Preprocess categorical columns using OneHotEncoder\n",
        "categorical_cols = ['fuel', 'seller_type', 'transmission', 'owner']\n",
        "categorical_transformer = OneHotEncoder(drop='first', sparse_output=False)\n",
        "preprocessor = ColumnTransformer(\n",
        "    transformers=[\n",
        "        ('cat', categorical_transformer, categorical_cols),\n",
        "    ],\n",
        "    remainder='passthrough'  # pass through columns not specified\n",
        ")\n",
        "\n",
        "# Fit and transform the data with the preprocessor\n",
        "X_transformed = preprocessor.fit_transform(X)\n",
        "\n",
        "# Split the transformed data into training and testing sets\n",
        "X_train, X_test, y_train, y_test = train_test_split(X_transformed, y, test_size=0.2, random_state=42)\n",
        "\n",
        "# Create the baseline model with default parameters\n",
        "baseline_model = DecisionTreeRegressor(random_state=42)\n",
        "\n",
        "# Fit the model on the training data\n",
        "baseline_model.fit(X_train, y_train)\n",
        "\n",
        "# Make predictions on the testing data\n",
        "baseline_predictions = baseline_model.predict(X_test)\n",
        "\n",
        "# Evaluate the baseline model using mean squared error\n",
        "baseline_mse = mean_squared_error(y_test, baseline_predictions)\n",
        "print(\"Baseline Mean Squared Error:\", baseline_mse)"
      ],
      "metadata": {
        "colab": {
          "base_uri": "https://localhost:8080/"
        },
        "id": "ucnuttdTSV76",
        "outputId": "2e705314-8524-4e64-c2db-507f6542bcf6"
      },
      "execution_count": 16,
      "outputs": [
        {
          "output_type": "stream",
          "name": "stdout",
          "text": [
            "Baseline Mean Squared Error: 204769024475.5166\n"
          ]
        }
      ]
    },
    {
      "cell_type": "code",
      "source": [
        "# Preprocess categorical columns using OneHotEncoder\n",
        "categorical_cols = ['fuel', 'seller_type', 'transmission', 'owner']\n",
        "categorical_transformer = OneHotEncoder(drop='first', sparse_output=False)\n",
        "preprocessor = ColumnTransformer(\n",
        "    transformers=[\n",
        "        ('cat', categorical_transformer, categorical_cols),\n",
        "    ],\n",
        "    remainder='passthrough'  # pass through columns not specified\n",
        ")\n",
        "\n",
        "# Fit and transform the data with the preprocessor\n",
        "X_transformed = preprocessor.fit_transform(X)\n",
        "\n",
        "# Split the transformed data into training and testing sets\n",
        "X_train, X_test, y_train, y_test = train_test_split(X_transformed, y, test_size=0.2, random_state=42)\n",
        "\n",
        "# Define the parameter grid for Grid Search\n",
        "param_grid = {\n",
        "    'max_depth': [None, 5, 10, 15],\n",
        "    'min_samples_split': [2, 5, 10],\n",
        "    'min_samples_leaf': [1, 2, 4],\n",
        "    'max_features': [ 'sqrt', 'log2']\n",
        "}\n",
        "\n",
        "# Create the Decision Tree Regressor model\n",
        "dt_regressor = DecisionTreeRegressor(random_state=42)\n",
        "\n",
        "# Initialize Grid Search with the parameter grid and the model\n",
        "grid_search = GridSearchCV(estimator=dt_regressor, param_grid=param_grid, cv=5)\n",
        "\n",
        "# Perform Grid Search to find the best parameters\n",
        "grid_search.fit(X_train, y_train)\n",
        "\n",
        "# Get the best parameters and the best model\n",
        "best_params = grid_search.best_params_\n",
        "best_model = grid_search.best_estimator_\n",
        "\n",
        "# Make predictions on the testing data using the best model\n",
        "best_predictions = best_model.predict(X_test)\n",
        "\n",
        "# Evaluate the best model using mean squared error\n",
        "best_mse = mean_squared_error(y_test, best_predictions)\n",
        "print(\"Best Mean Squared Error (Grid Search):\", best_mse)\n",
        "print(\"Best Parameters:\", best_params)"
      ],
      "metadata": {
        "colab": {
          "base_uri": "https://localhost:8080/"
        },
        "id": "f27bgpjYUKSe",
        "outputId": "9626948c-1409-4c19-fa17-ba46a0c56c43"
      },
      "execution_count": 19,
      "outputs": [
        {
          "output_type": "stream",
          "name": "stdout",
          "text": [
            "Best Mean Squared Error (Grid Search): 164325309079.34628\n",
            "Best Parameters: {'max_depth': 15, 'max_features': 'sqrt', 'min_samples_leaf': 4, 'min_samples_split': 10}\n"
          ]
        }
      ]
    },
    {
      "cell_type": "code",
      "source": [
        "# Preprocess categorical columns using OneHotEncoder\n",
        "categorical_cols = ['fuel', 'seller_type', 'transmission', 'owner']\n",
        "categorical_transformer = OneHotEncoder(drop='first', sparse_output=False)\n",
        "preprocessor = ColumnTransformer(\n",
        "    transformers=[\n",
        "        ('cat', categorical_transformer, categorical_cols),\n",
        "    ],\n",
        "    remainder='passthrough'  # pass through columns not specified\n",
        ")\n",
        "\n",
        "# Fit and transform the data with the preprocessor\n",
        "X_transformed = preprocessor.fit_transform(X)\n",
        "\n",
        "# Split the transformed data into training and testing sets\n",
        "X_train, X_test, y_train, y_test = train_test_split(X_transformed, y, test_size=0.2, random_state=42)\n",
        "\n",
        "# Define the parameter distributions for Random Search\n",
        "param_dist = {\n",
        "    'max_depth': [None, 5, 10, 15],\n",
        "    'min_samples_split': randint(2, 20),\n",
        "    'min_samples_leaf': randint(1, 10),\n",
        "    'max_features': [ 'sqrt', 'log2']\n",
        "}\n",
        "\n",
        "# Create the Decision Tree Regressor model\n",
        "dt_regressor = DecisionTreeRegressor(random_state=42)\n",
        "\n",
        "# Initialize Random Search with the parameter distributions and the model\n",
        "random_search = RandomizedSearchCV(estimator=dt_regressor, param_distributions=param_dist, n_iter=100, cv=5, random_state=42)\n",
        "\n",
        "# Perform Random Search to find the best parameters\n",
        "random_search.fit(X_train, y_train)\n",
        "\n",
        "# Get the best parameters and the best model\n",
        "best_params = random_search.best_params_\n",
        "best_model = random_search.best_estimator_\n",
        "\n",
        "# Make predictions on the testing data using the best model\n",
        "best_predictions = best_model.predict(X_test)\n",
        "\n",
        "# Evaluate the best model using mean squared error\n",
        "best_mse = mean_squared_error(y_test, best_predictions)\n",
        "print(\"Best Mean Squared Error (Random Search):\", best_mse)\n",
        "print(\"Best Parameters:\", best_params)"
      ],
      "metadata": {
        "colab": {
          "base_uri": "https://localhost:8080/"
        },
        "id": "kLSQ05mrXYfB",
        "outputId": "66b1952d-e788-476b-b795-979d50448cbd"
      },
      "execution_count": 22,
      "outputs": [
        {
          "output_type": "stream",
          "name": "stdout",
          "text": [
            "Best Mean Squared Error (Random Search): 171039310889.13156\n",
            "Best Parameters: {'max_depth': 10, 'max_features': 'log2', 'min_samples_leaf': 3, 'min_samples_split': 9}\n"
          ]
        }
      ]
    }
  ]
}